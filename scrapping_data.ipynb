{
 "cells": [
  {
   "cell_type": "code",
   "execution_count": 4,
   "metadata": {},
   "outputs": [],
   "source": [
    "import requests\n",
    "from bs4 import BeautifulSoup\n",
    "from tqdm import tqdm\n",
    "import pandas as pd\n",
    "import numpy as np\n",
    "from datetime import datetime\n",
    "from time import sleep"
   ]
  },
  {
   "cell_type": "code",
   "execution_count": 5,
   "metadata": {},
   "outputs": [],
   "source": [
    "base_url = 'https://www.coffeereview.com/advanced-search/page/'"
   ]
  },
  {
   "cell_type": "code",
   "execution_count": 6,
   "metadata": {},
   "outputs": [],
   "source": [
    "pages = 127"
   ]
  },
  {
   "cell_type": "code",
   "execution_count": 7,
   "metadata": {},
   "outputs": [
    {
     "data": {
      "text/plain": [
       "['https://www.coffeereview.com/advanced-search/page/51',\n",
       " 'https://www.coffeereview.com/advanced-search/page/52',\n",
       " 'https://www.coffeereview.com/advanced-search/page/53',\n",
       " 'https://www.coffeereview.com/advanced-search/page/54',\n",
       " 'https://www.coffeereview.com/advanced-search/page/55',\n",
       " 'https://www.coffeereview.com/advanced-search/page/56',\n",
       " 'https://www.coffeereview.com/advanced-search/page/57',\n",
       " 'https://www.coffeereview.com/advanced-search/page/58',\n",
       " 'https://www.coffeereview.com/advanced-search/page/59',\n",
       " 'https://www.coffeereview.com/advanced-search/page/60']"
      ]
     },
     "execution_count": 7,
     "metadata": {},
     "output_type": "execute_result"
    }
   ],
   "source": [
    "url_links = []\n",
    "for page in range(1,pages+1): \n",
    "    url_links.append(base_url+str(page))\n",
    "url_links[50:60]"
   ]
  },
  {
   "cell_type": "code",
   "execution_count": 8,
   "metadata": {},
   "outputs": [],
   "source": [
    "link = url_links[0]\n",
    "response = requests.get(link)"
   ]
  },
  {
   "cell_type": "code",
   "execution_count": 9,
   "metadata": {},
   "outputs": [
    {
     "data": {
      "text/plain": [
       "b'<html>\\r\\n<head><title>403 Forbidden</title></head>\\r\\n<body>\\r\\n<center><h1>403 Forbidden</h1></center>\\r\\n<hr><center>nginx</center>\\r\\n</body>\\r\\n</html>\\r\\n'"
      ]
     },
     "execution_count": 9,
     "metadata": {},
     "output_type": "execute_result"
    }
   ],
   "source": [
    "response.status_code\n",
    "response.content"
   ]
  },
  {
   "cell_type": "code",
   "execution_count": 10,
   "metadata": {},
   "outputs": [
    {
     "data": {
      "text/plain": [
       "200"
      ]
     },
     "execution_count": 10,
     "metadata": {},
     "output_type": "execute_result"
    }
   ],
   "source": [
    "headers = {'User-agent': 'Chrome'}\n",
    "\n",
    "response = requests.get(link, headers = headers)\n",
    "response.status_code"
   ]
  },
  {
   "cell_type": "code",
   "execution_count": 11,
   "metadata": {},
   "outputs": [
    {
     "data": {
      "text/plain": [
       "bs4.BeautifulSoup"
      ]
     },
     "execution_count": 11,
     "metadata": {},
     "output_type": "execute_result"
    }
   ],
   "source": [
    "soup = BeautifulSoup(response.content, 'html.parser')\n",
    "type(soup)"
   ]
  },
  {
   "cell_type": "code",
   "execution_count": 12,
   "metadata": {},
   "outputs": [
    {
     "data": {
      "text/plain": [
       "\"Coffee Review - The World's Leading Coffee Guide\""
      ]
     },
     "execution_count": 12,
     "metadata": {},
     "output_type": "execute_result"
    }
   ],
   "source": [
    "soup.title.text"
   ]
  },
  {
   "cell_type": "code",
   "execution_count": 13,
   "metadata": {},
   "outputs": [
    {
     "data": {
      "text/plain": [
       "21"
      ]
     },
     "execution_count": 13,
     "metadata": {},
     "output_type": "execute_result"
    }
   ],
   "source": [
    "len(soup.findAll('div', {'class': 'entry-content'}))"
   ]
  },
  {
   "cell_type": "code",
   "execution_count": 14,
   "metadata": {},
   "outputs": [
    {
     "name": "stderr",
     "output_type": "stream",
     "text": [
      "  0%|          | 0/127 [00:00<?, ?it/s]"
     ]
    },
    {
     "name": "stderr",
     "output_type": "stream",
     "text": [
      "100%|██████████| 127/127 [02:53<00:00,  1.37s/it]\n"
     ]
    }
   ],
   "source": [
    "headers = {'User-agent': 'Chrome'}\n",
    "coffee_links = []\n",
    "\n",
    "for link in tqdm(url_links):\n",
    "    response = requests.get(link, headers = headers)\n",
    "    soup = BeautifulSoup(response.content, 'html.parser')\n",
    "    boxes = soup.findAll('div', {'class': 'entry-content'})\n",
    "    for box in boxes[1:]:\n",
    "        coffee_links.append(box.find('p', {'class': 'review-roaster'}).find('a').get('href'))"
   ]
  },
  {
   "cell_type": "code",
   "execution_count": 15,
   "metadata": {},
   "outputs": [
    {
     "data": {
      "text/plain": [
       "2532"
      ]
     },
     "execution_count": 15,
     "metadata": {},
     "output_type": "execute_result"
    }
   ],
   "source": [
    "len(coffee_links)"
   ]
  },
  {
   "cell_type": "code",
   "execution_count": 16,
   "metadata": {},
   "outputs": [],
   "source": [
    "df = pd.DataFrame()"
   ]
  },
  {
   "cell_type": "code",
   "execution_count": 17,
   "metadata": {},
   "outputs": [
    {
     "name": "stderr",
     "output_type": "stream",
     "text": [
      "  0%|          | 0/2532 [00:00<?, ?it/s]"
     ]
    },
    {
     "name": "stderr",
     "output_type": "stream",
     "text": [
      "100%|██████████| 2532/2532 [1:32:23<00:00,  2.19s/it]\n"
     ]
    }
   ],
   "source": [
    "# Loop through the first 50 links in the list 'coffee_links'\n",
    "for link in tqdm(coffee_links):\n",
    "    # Send a GET request to each link with specified headers\n",
    "    response = requests.get(link, headers=headers)\n",
    "\n",
    "    # Check if the response status is OK (status code 200)\n",
    "    if response.status_code == 200:\n",
    "        # Parse the response content with BeautifulSoup\n",
    "        soup = BeautifulSoup(response.content, 'html.parser')\n",
    "        \n",
    "        # Try to find and extract the rating from the page\n",
    "        try:\n",
    "            rating = soup.find('span', {'class': 'review-template-rating'}).text\n",
    "        except:\n",
    "            # If rating is not found, assign NaN\n",
    "            rating = np.nan\n",
    "            \n",
    "        # Extract the roaster and coffee name from the page\n",
    "        review_roaster = soup.find('p', {'class': 'review-roaster'}).text\n",
    "        coffee = soup.find('h1', {'class': 'review-title'}).text\n",
    "\n",
    "        # Find all tables\n",
    "        tables = soup.findAll('table', {'class': 'review-template-table'})\n",
    "        \n",
    "        # Initialize an empty dictionary to hold data from the tables\n",
    "        data_dict = {}\n",
    "        for table in tables:\n",
    "            # Find all 'td' elements (table data) in each table\n",
    "            temp_table = table.findAll('td')\n",
    "            for i in range(0, len(temp_table) - 1, 2):\n",
    "                # For each pair of 'td' elements, the first is key and the second is value\n",
    "                key = temp_table[i].text.strip()\n",
    "                value = temp_table[i + 1].text.strip()\n",
    "\n",
    "                # Add the key-value pair to the data dictionary\n",
    "                data_dict[key] = value\n",
    "                \n",
    "        # Create a dictionary with the extracted information\n",
    "        temp = {\n",
    "            'date': datetime.now().date(),\n",
    "            'review_roaster': review_roaster,\n",
    "            'coffee': coffee,\n",
    "            'rating': rating,\n",
    "            'link': link\n",
    "        }\n",
    "        \n",
    "        # Update the temporary dictionary with data from tables\n",
    "        temp.update(data_dict)\n",
    "        \n",
    "        # Add the extracted information as a new row to the dataframe\n",
    "        df = pd.concat([df, pd.DataFrame([temp])], axis=0, ignore_index=True)\n",
    "\n",
    "        # Pause execution for 1.2 seconds to avoid overwhelming the server\n",
    "        sleep(1.2)\n",
    "    else:\n",
    "        # Print a message if the server is down or access is blocked\n",
    "        print('Server is down or blocked!')"
   ]
  },
  {
   "cell_type": "code",
   "execution_count": 19,
   "metadata": {},
   "outputs": [],
   "source": [
    "csv_file_path = 'C:/Users/dimit/OneDrive/Desktop/git_projects/Coffee-review/df_scrapped.csv'\n",
    "\n",
    "# Save the DataFrame to a CSV file\n",
    "df.to_csv(csv_file_path, index=False)"
   ]
  },
  {
   "cell_type": "code",
   "execution_count": 20,
   "metadata": {},
   "outputs": [
    {
     "data": {
      "text/html": [
       "<div>\n",
       "<style scoped>\n",
       "    .dataframe tbody tr th:only-of-type {\n",
       "        vertical-align: middle;\n",
       "    }\n",
       "\n",
       "    .dataframe tbody tr th {\n",
       "        vertical-align: top;\n",
       "    }\n",
       "\n",
       "    .dataframe thead th {\n",
       "        text-align: right;\n",
       "    }\n",
       "</style>\n",
       "<table border=\"1\" class=\"dataframe\">\n",
       "  <thead>\n",
       "    <tr style=\"text-align: right;\">\n",
       "      <th></th>\n",
       "      <th>date</th>\n",
       "      <th>review_roaster</th>\n",
       "      <th>coffee</th>\n",
       "      <th>rating</th>\n",
       "      <th>link</th>\n",
       "      <th>Roaster Location:</th>\n",
       "      <th>Coffee Origin:</th>\n",
       "      <th>Roast Level:</th>\n",
       "      <th>Agtron:</th>\n",
       "      <th>Est. Price:</th>\n",
       "      <th>Review Date:</th>\n",
       "      <th>Aroma:</th>\n",
       "      <th>Body:</th>\n",
       "      <th>Flavor:</th>\n",
       "      <th>Aftertaste:</th>\n",
       "      <th>With Milk:</th>\n",
       "      <th>Acidity/Structure:</th>\n",
       "      <th>Acidity:</th>\n",
       "    </tr>\n",
       "  </thead>\n",
       "  <tbody>\n",
       "    <tr>\n",
       "      <th>0</th>\n",
       "      <td>2024-01-04</td>\n",
       "      <td>Utopian Coffee</td>\n",
       "      <td>Cold Brew</td>\n",
       "      <td>93</td>\n",
       "      <td>https://www.coffeereview.com/review/cold-brew-8/</td>\n",
       "      <td>Fort Wayne, Indiana</td>\n",
       "      <td>Not disclosed</td>\n",
       "      <td>Light</td>\n",
       "      <td>64/85</td>\n",
       "      <td>$18.00/12 ounces</td>\n",
       "      <td>January 2024</td>\n",
       "      <td>8</td>\n",
       "      <td>9</td>\n",
       "      <td>9</td>\n",
       "      <td>8</td>\n",
       "      <td>9</td>\n",
       "      <td>NaN</td>\n",
       "      <td>NaN</td>\n",
       "    </tr>\n",
       "    <tr>\n",
       "      <th>1</th>\n",
       "      <td>2024-01-04</td>\n",
       "      <td>JBC Coffee Roasters</td>\n",
       "      <td>Nkanda #7 Burundi</td>\n",
       "      <td>92</td>\n",
       "      <td>https://www.coffeereview.com/review/nkanda-7-b...</td>\n",
       "      <td>Madison, Wisconsin</td>\n",
       "      <td>Tangara, Ngozi,  Burundi</td>\n",
       "      <td>Medium-Light</td>\n",
       "      <td>58/78</td>\n",
       "      <td>$21.00/12 ounces</td>\n",
       "      <td>January 2024</td>\n",
       "      <td>8</td>\n",
       "      <td>9</td>\n",
       "      <td>9</td>\n",
       "      <td>8</td>\n",
       "      <td>NaN</td>\n",
       "      <td>8</td>\n",
       "      <td>NaN</td>\n",
       "    </tr>\n",
       "    <tr>\n",
       "      <th>2</th>\n",
       "      <td>2024-01-04</td>\n",
       "      <td>Utopian Coffee</td>\n",
       "      <td>Pearl</td>\n",
       "      <td>91</td>\n",
       "      <td>https://www.coffeereview.com/review/pearl/</td>\n",
       "      <td>Fort Wayne, Indiana</td>\n",
       "      <td>Not disclosed</td>\n",
       "      <td>Light</td>\n",
       "      <td>64/86</td>\n",
       "      <td>$18.00/12 ounces</td>\n",
       "      <td>January 2024</td>\n",
       "      <td>8</td>\n",
       "      <td>8</td>\n",
       "      <td>9</td>\n",
       "      <td>7</td>\n",
       "      <td>NaN</td>\n",
       "      <td>9</td>\n",
       "      <td>NaN</td>\n",
       "    </tr>\n",
       "    <tr>\n",
       "      <th>3</th>\n",
       "      <td>2024-01-04</td>\n",
       "      <td>Kafe Coffee Roastery</td>\n",
       "      <td>Peach-C Blend</td>\n",
       "      <td>94</td>\n",
       "      <td>https://www.coffeereview.com/review/peach-c-bl...</td>\n",
       "      <td>Zhubei, Taiwan</td>\n",
       "      <td>Ethiopia; Colombia</td>\n",
       "      <td>Light</td>\n",
       "      <td>62/84</td>\n",
       "      <td>NT$ 366/8 ounces</td>\n",
       "      <td>January 2024</td>\n",
       "      <td>9</td>\n",
       "      <td>9</td>\n",
       "      <td>9</td>\n",
       "      <td>8</td>\n",
       "      <td>NaN</td>\n",
       "      <td>9</td>\n",
       "      <td>NaN</td>\n",
       "    </tr>\n",
       "    <tr>\n",
       "      <th>4</th>\n",
       "      <td>2024-01-04</td>\n",
       "      <td>Cafe Fugu Roasters</td>\n",
       "      <td>Kanazawa Light Roasted Espresso House Blend</td>\n",
       "      <td>92</td>\n",
       "      <td>https://www.coffeereview.com/review/kanazawa-l...</td>\n",
       "      <td>Taipei City, Taiwan</td>\n",
       "      <td>Not disclosed</td>\n",
       "      <td>Light</td>\n",
       "      <td>65/86</td>\n",
       "      <td>NT$ 450/200 grams</td>\n",
       "      <td>January 2024</td>\n",
       "      <td>8</td>\n",
       "      <td>9</td>\n",
       "      <td>9</td>\n",
       "      <td>8</td>\n",
       "      <td>8</td>\n",
       "      <td>NaN</td>\n",
       "      <td>NaN</td>\n",
       "    </tr>\n",
       "    <tr>\n",
       "      <th>...</th>\n",
       "      <td>...</td>\n",
       "      <td>...</td>\n",
       "      <td>...</td>\n",
       "      <td>...</td>\n",
       "      <td>...</td>\n",
       "      <td>...</td>\n",
       "      <td>...</td>\n",
       "      <td>...</td>\n",
       "      <td>...</td>\n",
       "      <td>...</td>\n",
       "      <td>...</td>\n",
       "      <td>...</td>\n",
       "      <td>...</td>\n",
       "      <td>...</td>\n",
       "      <td>...</td>\n",
       "      <td>...</td>\n",
       "      <td>...</td>\n",
       "      <td>...</td>\n",
       "    </tr>\n",
       "    <tr>\n",
       "      <th>2527</th>\n",
       "      <td>2024-01-04</td>\n",
       "      <td>Café Grumpy</td>\n",
       "      <td>Honduras Las Flores Parainema</td>\n",
       "      <td>94</td>\n",
       "      <td>https://www.coffeereview.com/review/honduras-l...</td>\n",
       "      <td>Brooklyn, New York</td>\n",
       "      <td>Santa Bárbara, Honduras</td>\n",
       "      <td>Medium-Light</td>\n",
       "      <td>56/80</td>\n",
       "      <td>$22.00/12 ounces</td>\n",
       "      <td>January 2019</td>\n",
       "      <td>9</td>\n",
       "      <td>9</td>\n",
       "      <td>9</td>\n",
       "      <td>8</td>\n",
       "      <td>NaN</td>\n",
       "      <td>9</td>\n",
       "      <td>NaN</td>\n",
       "    </tr>\n",
       "    <tr>\n",
       "      <th>2528</th>\n",
       "      <td>2024-01-04</td>\n",
       "      <td>JBC Coffee Roasters</td>\n",
       "      <td>Kivu DR Congo</td>\n",
       "      <td>94</td>\n",
       "      <td>https://www.coffeereview.com/review/kivu-dr-co...</td>\n",
       "      <td>Madison, Wisconsin</td>\n",
       "      <td>Kalehe, South Kivu Province, Democratic Republ...</td>\n",
       "      <td>Medium-Light</td>\n",
       "      <td>56/78</td>\n",
       "      <td>$16.90/12 ounces</td>\n",
       "      <td>January 2019</td>\n",
       "      <td>9</td>\n",
       "      <td>9</td>\n",
       "      <td>9</td>\n",
       "      <td>8</td>\n",
       "      <td>NaN</td>\n",
       "      <td>9</td>\n",
       "      <td>NaN</td>\n",
       "    </tr>\n",
       "    <tr>\n",
       "      <th>2529</th>\n",
       "      <td>2024-01-04</td>\n",
       "      <td>Coava Coffee Roasters</td>\n",
       "      <td>Santa Luzia Brazil</td>\n",
       "      <td>93</td>\n",
       "      <td>https://www.coffeereview.com/review/santa-luzi...</td>\n",
       "      <td>Portland, Oregon</td>\n",
       "      <td>Cerrado Mineiro growing region, Santa Luzia, B...</td>\n",
       "      <td>Medium-Light</td>\n",
       "      <td>54/78</td>\n",
       "      <td>$15.00/250 grams</td>\n",
       "      <td>January 2019</td>\n",
       "      <td>9</td>\n",
       "      <td>9</td>\n",
       "      <td>9</td>\n",
       "      <td>8</td>\n",
       "      <td>NaN</td>\n",
       "      <td>8</td>\n",
       "      <td>NaN</td>\n",
       "    </tr>\n",
       "    <tr>\n",
       "      <th>2530</th>\n",
       "      <td>2024-01-04</td>\n",
       "      <td>Coava Coffee Roasters</td>\n",
       "      <td>Porfirio Castellanos Honduras</td>\n",
       "      <td>93</td>\n",
       "      <td>https://www.coffeereview.com/review/porfirio-c...</td>\n",
       "      <td>Portland, Oregon</td>\n",
       "      <td>Santa Bárbara, Honduras</td>\n",
       "      <td>Medium-Light</td>\n",
       "      <td>56/80</td>\n",
       "      <td>$15.00/250 grams</td>\n",
       "      <td>January 2019</td>\n",
       "      <td>9</td>\n",
       "      <td>8</td>\n",
       "      <td>9</td>\n",
       "      <td>8</td>\n",
       "      <td>NaN</td>\n",
       "      <td>9</td>\n",
       "      <td>NaN</td>\n",
       "    </tr>\n",
       "    <tr>\n",
       "      <th>2531</th>\n",
       "      <td>2024-01-04</td>\n",
       "      <td>Paradise Roasters</td>\n",
       "      <td>Ethiopia Yirgacheffe Awassa</td>\n",
       "      <td>93</td>\n",
       "      <td>https://www.coffeereview.com/review/ethiopia-y...</td>\n",
       "      <td>Minneapolis, MInnesota</td>\n",
       "      <td>Yirgacheffe growing region, south-central Ethi...</td>\n",
       "      <td>Medium-Light</td>\n",
       "      <td>56/74</td>\n",
       "      <td>$17.95/12 ounces</td>\n",
       "      <td>January 2019</td>\n",
       "      <td>9</td>\n",
       "      <td>8</td>\n",
       "      <td>9</td>\n",
       "      <td>8</td>\n",
       "      <td>NaN</td>\n",
       "      <td>9</td>\n",
       "      <td>NaN</td>\n",
       "    </tr>\n",
       "  </tbody>\n",
       "</table>\n",
       "<p>2532 rows × 18 columns</p>\n",
       "</div>"
      ],
      "text/plain": [
       "            date         review_roaster  \\\n",
       "0     2024-01-04         Utopian Coffee   \n",
       "1     2024-01-04    JBC Coffee Roasters   \n",
       "2     2024-01-04         Utopian Coffee   \n",
       "3     2024-01-04   Kafe Coffee Roastery   \n",
       "4     2024-01-04     Cafe Fugu Roasters   \n",
       "...          ...                    ...   \n",
       "2527  2024-01-04            Café Grumpy   \n",
       "2528  2024-01-04    JBC Coffee Roasters   \n",
       "2529  2024-01-04  Coava Coffee Roasters   \n",
       "2530  2024-01-04  Coava Coffee Roasters   \n",
       "2531  2024-01-04      Paradise Roasters   \n",
       "\n",
       "                                           coffee rating  \\\n",
       "0                                       Cold Brew     93   \n",
       "1                               Nkanda #7 Burundi     92   \n",
       "2                                           Pearl     91   \n",
       "3                                   Peach-C Blend     94   \n",
       "4     Kanazawa Light Roasted Espresso House Blend     92   \n",
       "...                                           ...    ...   \n",
       "2527                Honduras Las Flores Parainema     94   \n",
       "2528                                Kivu DR Congo     94   \n",
       "2529                           Santa Luzia Brazil     93   \n",
       "2530                Porfirio Castellanos Honduras     93   \n",
       "2531                  Ethiopia Yirgacheffe Awassa     93   \n",
       "\n",
       "                                                   link  \\\n",
       "0      https://www.coffeereview.com/review/cold-brew-8/   \n",
       "1     https://www.coffeereview.com/review/nkanda-7-b...   \n",
       "2            https://www.coffeereview.com/review/pearl/   \n",
       "3     https://www.coffeereview.com/review/peach-c-bl...   \n",
       "4     https://www.coffeereview.com/review/kanazawa-l...   \n",
       "...                                                 ...   \n",
       "2527  https://www.coffeereview.com/review/honduras-l...   \n",
       "2528  https://www.coffeereview.com/review/kivu-dr-co...   \n",
       "2529  https://www.coffeereview.com/review/santa-luzi...   \n",
       "2530  https://www.coffeereview.com/review/porfirio-c...   \n",
       "2531  https://www.coffeereview.com/review/ethiopia-y...   \n",
       "\n",
       "           Roaster Location:  \\\n",
       "0        Fort Wayne, Indiana   \n",
       "1         Madison, Wisconsin   \n",
       "2        Fort Wayne, Indiana   \n",
       "3             Zhubei, Taiwan   \n",
       "4        Taipei City, Taiwan   \n",
       "...                      ...   \n",
       "2527      Brooklyn, New York   \n",
       "2528      Madison, Wisconsin   \n",
       "2529        Portland, Oregon   \n",
       "2530        Portland, Oregon   \n",
       "2531  Minneapolis, MInnesota   \n",
       "\n",
       "                                         Coffee Origin:  Roast Level: Agtron:  \\\n",
       "0                                         Not disclosed         Light   64/85   \n",
       "1                              Tangara, Ngozi,  Burundi  Medium-Light   58/78   \n",
       "2                                         Not disclosed         Light   64/86   \n",
       "3                                    Ethiopia; Colombia         Light   62/84   \n",
       "4                                         Not disclosed         Light   65/86   \n",
       "...                                                 ...           ...     ...   \n",
       "2527                            Santa Bárbara, Honduras  Medium-Light   56/80   \n",
       "2528  Kalehe, South Kivu Province, Democratic Republ...  Medium-Light   56/78   \n",
       "2529  Cerrado Mineiro growing region, Santa Luzia, B...  Medium-Light   54/78   \n",
       "2530                            Santa Bárbara, Honduras  Medium-Light   56/80   \n",
       "2531  Yirgacheffe growing region, south-central Ethi...  Medium-Light   56/74   \n",
       "\n",
       "            Est. Price:  Review Date: Aroma: Body: Flavor: Aftertaste:  \\\n",
       "0      $18.00/12 ounces  January 2024      8     9       9           8   \n",
       "1      $21.00/12 ounces  January 2024      8     9       9           8   \n",
       "2      $18.00/12 ounces  January 2024      8     8       9           7   \n",
       "3      NT$ 366/8 ounces  January 2024      9     9       9           8   \n",
       "4     NT$ 450/200 grams  January 2024      8     9       9           8   \n",
       "...                 ...           ...    ...   ...     ...         ...   \n",
       "2527   $22.00/12 ounces  January 2019      9     9       9           8   \n",
       "2528   $16.90/12 ounces  January 2019      9     9       9           8   \n",
       "2529   $15.00/250 grams  January 2019      9     9       9           8   \n",
       "2530   $15.00/250 grams  January 2019      9     8       9           8   \n",
       "2531   $17.95/12 ounces  January 2019      9     8       9           8   \n",
       "\n",
       "     With Milk: Acidity/Structure: Acidity:  \n",
       "0             9                NaN      NaN  \n",
       "1           NaN                  8      NaN  \n",
       "2           NaN                  9      NaN  \n",
       "3           NaN                  9      NaN  \n",
       "4             8                NaN      NaN  \n",
       "...         ...                ...      ...  \n",
       "2527        NaN                  9      NaN  \n",
       "2528        NaN                  9      NaN  \n",
       "2529        NaN                  8      NaN  \n",
       "2530        NaN                  9      NaN  \n",
       "2531        NaN                  9      NaN  \n",
       "\n",
       "[2532 rows x 18 columns]"
      ]
     },
     "execution_count": 20,
     "metadata": {},
     "output_type": "execute_result"
    }
   ],
   "source": [
    "df "
   ]
  }
 ],
 "metadata": {
  "kernelspec": {
   "display_name": "base",
   "language": "python",
   "name": "python3"
  },
  "language_info": {
   "codemirror_mode": {
    "name": "ipython",
    "version": 3
   },
   "file_extension": ".py",
   "mimetype": "text/x-python",
   "name": "python",
   "nbconvert_exporter": "python",
   "pygments_lexer": "ipython3",
   "version": "3.8.18"
  }
 },
 "nbformat": 4,
 "nbformat_minor": 2
}
